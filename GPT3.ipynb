{
 "cells": [
  {
   "cell_type": "code",
   "execution_count": 1,
   "metadata": {},
   "outputs": [],
   "source": [
    "import langchain\n",
    "import openai\n",
    "import os"
   ]
  },
  {
   "cell_type": "code",
   "execution_count": 21,
   "metadata": {},
   "outputs": [],
   "source": [
    "os.environ['OPENAI_API_KEY'] = '{OPENAI_API_KEY}'"
   ]
  },
  {
   "cell_type": "code",
   "execution_count": 22,
   "metadata": {},
   "outputs": [],
   "source": [
    "key = os.environ.get('OPENAI_API_KEY')"
   ]
  },
  {
   "cell_type": "code",
   "execution_count": 24,
   "metadata": {},
   "outputs": [],
   "source": [
    "from langchain.llms import OpenAI"
   ]
  },
  {
   "cell_type": "code",
   "execution_count": 25,
   "metadata": {},
   "outputs": [
    {
     "name": "stdout",
     "output_type": "stream",
     "text": [
      "\n",
      "\n",
      "1. Goa\n",
      "2. Kerala\n",
      "3. Rajasthan\n",
      "4. Himachal Pradesh\n",
      "5. Kashmir\n"
     ]
    }
   ],
   "source": [
    "text = \"what are five best vacation points in India?\"\n",
    "llm=OpenAI(temperature=0.9,openai_api_key=key)\n",
    "print(llm(text))"
   ]
  },
  {
   "cell_type": "markdown",
   "metadata": {},
   "source": [
    "For Prompt Management"
   ]
  },
  {
   "cell_type": "code",
   "execution_count": 7,
   "metadata": {},
   "outputs": [
    {
     "name": "stdout",
     "output_type": "stream",
     "text": [
      "\n",
      "\n",
      "1. Agra - Home of the Taj Mahal \n",
      "2. Kerala - Backwaters and lush greenery\n",
      "3. Jaipur - Colorful City of the Rajputs\n",
      "4. Andaman & Nicobar Islands - Exquisite beaches and tropical rainforests\n",
      "5. Goa - Hippie culture and beautiful coastline\n"
     ]
    }
   ],
   "source": [
    "# for managing the prompts\n",
    "from langchain.prompts import PromptTemplate\n",
    "prompt = PromptTemplate(\n",
    "    input_variables=['locations'],\n",
    "    template=\"what are five best vacation points in {locations}?\"\n",
    ")\n",
    "print(llm(prompt.format(locations='india')))\n"
   ]
  },
  {
   "cell_type": "code",
   "execution_count": 10,
   "metadata": {},
   "outputs": [
    {
     "name": "stdout",
     "output_type": "stream",
     "text": [
      "\n",
      "\n",
      "1. Yosemite National Park, California\n",
      "2. Yellowstone National Park, Wyoming\n",
      "3. Grand Canyon National Park, Arizona\n",
      "4. Florida Keys, Florida\n",
      "5. Maui, Hawaii\n"
     ]
    }
   ],
   "source": [
    "print(llm(prompt.format(locations='usa')))"
   ]
  },
  {
   "cell_type": "code",
   "execution_count": 11,
   "metadata": {},
   "outputs": [
    {
     "name": "stdout",
     "output_type": "stream",
     "text": [
      "\n",
      "\n",
      "1. Jerusalem – The holiest city in the world for the three main Abrahamic religions, Jerusalem has numerous historical sites, ancient monuments, and a vibrant modern culture that make it a must-see destination.\n",
      "\n",
      "2. Dead Sea – Revered for its healing properties, the Dead Sea is one of the most unique natural wonders of the world.\n",
      "\n",
      "3. Tel Aviv – Israel’s largest and most modern city is known for its vibrant beach culture, nightlife, and historical attractions.\n",
      "\n",
      "4. Galilee – This fertile and stunningly beautiful region of northern Israel is loved for its lush landscapes, tranquil atmosphere, and historic religious sites.\n",
      "\n",
      "5. Masada – The ruins of Masada fortress, perched atop a rock plateau in the Judean Desert, are one of Israel’s most iconic archeological sites.\n"
     ]
    }
   ],
   "source": [
    "from langchain.prompts import PromptTemplate\n",
    "from langchain.chains import LLMChain\n",
    "\n",
    "prompt = PromptTemplate(\n",
    "    input_variables=['locations'],\n",
    "    template=\"what are five best vacation points in {locations}?\"\n",
    ")\n",
    "chain = LLMChain(llm=llm,prompt=prompt)\n",
    "print(chain.run('israel'))"
   ]
  },
  {
   "cell_type": "markdown",
   "metadata": {},
   "source": [
    "# calling chains based on user input"
   ]
  },
  {
   "cell_type": "code",
   "execution_count": 7,
   "metadata": {},
   "outputs": [],
   "source": [
    "from langchain.llms import OpenAI\n",
    "from langchain.agents import load_tools\n",
    "from langchain.agents import initialize_agent"
   ]
  },
  {
   "cell_type": "markdown",
   "metadata": {},
   "source": [
    "serpapi --> for google search\n",
    "\n",
    "wolfram ---> for scientific data"
   ]
  },
  {
   "cell_type": "code",
   "execution_count": 8,
   "metadata": {},
   "outputs": [],
   "source": [
    "os.environ['SERPAPI_API_KEY'] = '{serpapi_api_key}'\n"
   ]
  },
  {
   "cell_type": "code",
   "execution_count": 9,
   "metadata": {},
   "outputs": [],
   "source": [
    "serp_api = os.environ.get('SERPAPI_API_KEY')"
   ]
  },
  {
   "cell_type": "code",
   "execution_count": 9,
   "metadata": {},
   "outputs": [],
   "source": [
    "llm_obj = OpenAI(temperature=0,openai_api_key=key)\n",
    "tools = load_tools([\"serpapi\",\"llm-math\"],llm=llm_obj)"
   ]
  },
  {
   "cell_type": "code",
   "execution_count": 10,
   "metadata": {},
   "outputs": [],
   "source": [
    "agent = initialize_agent(tools,llm_obj,agent=\"zero-shot-react-description\",verbose=True)"
   ]
  },
  {
   "cell_type": "code",
   "execution_count": 11,
   "metadata": {},
   "outputs": [
    {
     "name": "stdout",
     "output_type": "stream",
     "text": [
      "\n",
      "\n",
      "\u001b[1m> Entering new AgentExecutor chain...\u001b[0m\n",
      "\u001b[32;1m\u001b[1;3m I need to find out the capital of India and the number of states\n",
      "Action: Search\n",
      "Action Input: \"capital of India\" \"number of states in India\"\u001b[0m\n",
      "Observation: \u001b[36;1m\u001b[1;3mIndia is divided into 28 states and 8 union territories, each with its own capital city. The states and union territories are further divided into districts and subdivisions. The capital city of India is New Delhi, which is located in the National Capital Territory of Delhi.\u001b[0m\n",
      "Thought:\u001b[32;1m\u001b[1;3m I now know the final answer\n",
      "Final Answer: The capital of India is New Delhi and there are 28 states and 8 union territories in India.\u001b[0m\n",
      "\n",
      "\u001b[1m> Finished chain.\u001b[0m\n"
     ]
    },
    {
     "data": {
      "text/plain": [
       "'The capital of India is New Delhi and there are 28 states and 8 union territories in India.'"
      ]
     },
     "execution_count": 11,
     "metadata": {},
     "output_type": "execute_result"
    }
   ],
   "source": [
    "agent.run(\"what is the capital of india? how many states are there in india?\")"
   ]
  },
  {
   "cell_type": "markdown",
   "metadata": {},
   "source": [
    "# Conversational Agent\n",
    "\n",
    "Agent remembers the past Question and Answers"
   ]
  },
  {
   "cell_type": "code",
   "execution_count": 13,
   "metadata": {},
   "outputs": [],
   "source": [
    "from langchain import OpenAI , ConversationChain"
   ]
  },
  {
   "cell_type": "code",
   "execution_count": 14,
   "metadata": {},
   "outputs": [],
   "source": [
    "conversation = ConversationChain(llm=llm_obj,verbose=True)"
   ]
  },
  {
   "cell_type": "code",
   "execution_count": 15,
   "metadata": {},
   "outputs": [
    {
     "name": "stdout",
     "output_type": "stream",
     "text": [
      "\n",
      "\n",
      "\u001b[1m> Entering new ConversationChain chain...\u001b[0m\n",
      "Prompt after formatting:\n",
      "\u001b[32;1m\u001b[1;3mThe following is a friendly conversation between a human and an AI. The AI is talkative and provides lots of specific details from its context. If the AI does not know the answer to a question, it truthfully says it does not know.\n",
      "\n",
      "Current conversation:\n",
      "\n",
      "Human: hii there\n",
      "AI:\u001b[0m\n",
      "\n",
      "\u001b[1m> Finished chain.\u001b[0m\n"
     ]
    },
    {
     "data": {
      "text/plain": [
       "' Hi there! How can I help you?'"
      ]
     },
     "execution_count": 15,
     "metadata": {},
     "output_type": "execute_result"
    }
   ],
   "source": [
    "conversation.predict(input=\"hii there\")"
   ]
  },
  {
   "cell_type": "code",
   "execution_count": 16,
   "metadata": {},
   "outputs": [
    {
     "name": "stdout",
     "output_type": "stream",
     "text": [
      "\n",
      "\n",
      "\u001b[1m> Entering new ConversationChain chain...\u001b[0m\n",
      "Prompt after formatting:\n",
      "\u001b[32;1m\u001b[1;3mThe following is a friendly conversation between a human and an AI. The AI is talkative and provides lots of specific details from its context. If the AI does not know the answer to a question, it truthfully says it does not know.\n",
      "\n",
      "Current conversation:\n",
      "Human: hii there\n",
      "AI:  Hi there! How can I help you?\n",
      "Human: can you tell me, what is the financial capital of India?\n",
      "AI:\u001b[0m\n",
      "\n",
      "\u001b[1m> Finished chain.\u001b[0m\n"
     ]
    },
    {
     "data": {
      "text/plain": [
       "' The financial capital of India is Mumbai. It is the most populous city in India and is home to the Bombay Stock Exchange, the National Stock Exchange of India, and the corporate headquarters of many Indian companies and multinational corporations.'"
      ]
     },
     "execution_count": 16,
     "metadata": {},
     "output_type": "execute_result"
    }
   ],
   "source": [
    "conversation.predict(input=\"can you tell me, what is the financial capital of India?\")"
   ]
  },
  {
   "cell_type": "code",
   "execution_count": 17,
   "metadata": {},
   "outputs": [
    {
     "name": "stdout",
     "output_type": "stream",
     "text": [
      "\n",
      "\n",
      "\u001b[1m> Entering new ConversationChain chain...\u001b[0m\n",
      "Prompt after formatting:\n",
      "\u001b[32;1m\u001b[1;3mThe following is a friendly conversation between a human and an AI. The AI is talkative and provides lots of specific details from its context. If the AI does not know the answer to a question, it truthfully says it does not know.\n",
      "\n",
      "Current conversation:\n",
      "Human: hii there\n",
      "AI:  Hi there! How can I help you?\n",
      "Human: can you tell me, what is the financial capital of India?\n",
      "AI:  The financial capital of India is Mumbai. It is the most populous city in India and is home to the Bombay Stock Exchange, the National Stock Exchange of India, and the corporate headquarters of many Indian companies and multinational corporations.\n",
      "Human: can you tell me, what is the financial capital of the world?\n",
      "AI:\u001b[0m\n",
      "\n",
      "\u001b[1m> Finished chain.\u001b[0m\n"
     ]
    },
    {
     "data": {
      "text/plain": [
       "' The financial capital of the world is not a single city, but rather a network of cities that are important financial centers. These cities include New York, London, Tokyo, Hong Kong, Singapore, and Shanghai.'"
      ]
     },
     "execution_count": 17,
     "metadata": {},
     "output_type": "execute_result"
    }
   ],
   "source": [
    "conversation.predict(input=\"can you tell me, what is the financial capital of the world?\")"
   ]
  },
  {
   "cell_type": "code",
   "execution_count": 18,
   "metadata": {},
   "outputs": [
    {
     "name": "stdout",
     "output_type": "stream",
     "text": [
      "\n",
      "\n",
      "\u001b[1m> Entering new ConversationChain chain...\u001b[0m\n",
      "Prompt after formatting:\n",
      "\u001b[32;1m\u001b[1;3mThe following is a friendly conversation between a human and an AI. The AI is talkative and provides lots of specific details from its context. If the AI does not know the answer to a question, it truthfully says it does not know.\n",
      "\n",
      "Current conversation:\n",
      "Human: hii there\n",
      "AI:  Hi there! How can I help you?\n",
      "Human: can you tell me, what is the financial capital of India?\n",
      "AI:  The financial capital of India is Mumbai. It is the most populous city in India and is home to the Bombay Stock Exchange, the National Stock Exchange of India, and the corporate headquarters of many Indian companies and multinational corporations.\n",
      "Human: can you tell me, what is the financial capital of the world?\n",
      "AI:  The financial capital of the world is not a single city, but rather a network of cities that are important financial centers. These cities include New York, London, Tokyo, Hong Kong, Singapore, and Shanghai.\n",
      "Human: what was the first question i asked you?\n",
      "AI:\u001b[0m\n"
     ]
    },
    {
     "name": "stderr",
     "output_type": "stream",
     "text": [
      "Retrying langchain.llms.openai.completion_with_retry.<locals>._completion_with_retry in 4.0 seconds as it raised RateLimitError: Rate limit reached for text-davinci-003 in organization org-G9jiKaDh64PmMTanO1WkaGA2 on requests per min. Limit: 3 / min. Please try again in 20s. Contact us through our help center at help.openai.com if you continue to have issues. Please add a payment method to your account to increase your rate limit. Visit https://platform.openai.com/account/billing to add a payment method..\n",
      "Retrying langchain.llms.openai.completion_with_retry.<locals>._completion_with_retry in 4.0 seconds as it raised RateLimitError: Rate limit reached for text-davinci-003 in organization org-G9jiKaDh64PmMTanO1WkaGA2 on requests per min. Limit: 3 / min. Please try again in 20s. Contact us through our help center at help.openai.com if you continue to have issues. Please add a payment method to your account to increase your rate limit. Visit https://platform.openai.com/account/billing to add a payment method..\n"
     ]
    },
    {
     "name": "stdout",
     "output_type": "stream",
     "text": [
      "\n",
      "\u001b[1m> Finished chain.\u001b[0m\n"
     ]
    },
    {
     "data": {
      "text/plain": [
       "' You asked me what the financial capital of India is.'"
      ]
     },
     "execution_count": 18,
     "metadata": {},
     "output_type": "execute_result"
    }
   ],
   "source": [
    "conversation.predict(input=\"what was the first question i asked you?\")"
   ]
  },
  {
   "cell_type": "markdown",
   "metadata": {},
   "source": [
    "# Text Summarization"
   ]
  },
  {
   "cell_type": "code",
   "execution_count": 4,
   "metadata": {},
   "outputs": [],
   "source": [
    "from langchain.llms import OpenAI\n",
    "from langchain.prompts import PromptTemplate"
   ]
  },
  {
   "cell_type": "code",
   "execution_count": 5,
   "metadata": {},
   "outputs": [],
   "source": [
    "# for short text summarization\n",
    "\n",
    "llm = OpenAI(temperature=0,model='text-davinci-003',openai_api_key=key)\n",
    "\n",
    "template = '''\n",
    "%INSTRUCTIONS:\n",
    "please summarize the following piece of text.\n",
    "respond in a manner that a 5 years old can understand.\n",
    "\n",
    "%TEXT:\n",
    "{text}\n",
    "'''\n",
    "prompt = PromptTemplate(\n",
    "    input_variables=[\"text\"],\n",
    "    template=template\n",
    ")"
   ]
  },
  {
   "cell_type": "code",
   "execution_count": 6,
   "metadata": {},
   "outputs": [
    {
     "name": "stdout",
     "output_type": "stream",
     "text": [
      "\n",
      "%INSTRUCTIONS:\n",
      "please summarize the following piece of text.\n",
      "respond in a manner that a 5 years old can understand.\n",
      "\n",
      "%TEXT:\n",
      "The market continued its uptrend journey for yet another session with the Nifty50 scaling past the 19,800 mark, taking support at 19,750 throughout the day on October 11. Hence, as long as the index holds the 19,800-19,750 area, reaching 20,000 points seems possible in the coming sessions, whereas on other side, the 19,700-19,600 zone is likely to act as a support in case of correction, experts said.The Nifty50 jumped 122 points to 19,811, and the BSE Sensex climbed 394 points to 66,473, while market breadth remained positive in the ratio of 2:1. The Nifty Midcap 100 and Smallcap 100 indices also participated in the run, rising half a percent and eight-tenth of a percent\n",
      "\n"
     ]
    }
   ],
   "source": [
    "user_text = \"The market continued its uptrend journey for yet another session with the Nifty50 scaling past the 19,800 mark, taking support at 19,750 throughout the day on October 11. Hence, as long as the index holds the 19,800-19,750 area, reaching 20,000 points seems possible in the coming sessions, whereas on other side, the 19,700-19,600 zone is likely to act as a support in case of correction, experts said.The Nifty50 jumped 122 points to 19,811, and the BSE Sensex climbed 394 points to 66,473, while market breadth remained positive in the ratio of 2:1. The Nifty Midcap 100 and Smallcap 100 indices also participated in the run, rising half a percent and eight-tenth of a percent\"\n",
    "final_prompt = prompt.format(text=user_text)\n",
    "print(final_prompt)"
   ]
  },
  {
   "cell_type": "code",
   "execution_count": 8,
   "metadata": {},
   "outputs": [
    {
     "name": "stdout",
     "output_type": "stream",
     "text": [
      "\n",
      "The market went up again and the Nifty50 went past 19,800. If it stays around 19,800-19,750, it might reach 20,000 soon. If it goes down, it will stay around 19,700-19,600. The Nifty50, BSE Sensex, Nifty Midcap 100 and Smallcap 100 all went up. \n",
      "\n"
     ]
    }
   ],
   "source": [
    "output = llm(final_prompt)\n",
    "print(output,'\\n')"
   ]
  },
  {
   "cell_type": "code",
   "execution_count": 28,
   "metadata": {},
   "outputs": [
    {
     "name": "stdout",
     "output_type": "stream",
     "text": [
      "221\n"
     ]
    }
   ],
   "source": [
    "# for long text summarization\n",
    "\n",
    "from langchain.llms import OpenAI\n",
    "from langchain.chains.summarize import load_summarize_chain\n",
    "from langchain.text_splitter import RecursiveCharacterTextSplitter\n",
    "\n",
    "llm2 = OpenAI(temperature=0,openai_api_key=key)\n",
    "\n",
    "\n",
    "text=\"Prabhudas Lilladher has come out with its second quarter (July-September’ 24) earnings estimates for the Consumer Durables sector. The brokerage house expects Bajaj Electricals to report net profit at Rs. 58.5 crore down 8.5% year-on-year (up 35.9% quarter-on-quarter).Net Sales are expected to decrease by 0.4 percent Y-o-Y (up 9.3 percent Q-o-Q) to Rs. 1,215.7 crore, according to Prabhudas Lilladher.Earnings before interest, tax, depreciation and amortisation (EBITDA) are likely to fall by 5.4 percent Y-o-Y (up 28 percent Q-o-Q) to Rs. 88.7 crore.Disclaimer: The views and investment tips expressed by investment experts on moneycontrol.com are their own, and not that of the website or its management. Moneycontrol.com advises users to check with certified experts before taking any investment decisions.\"\n",
    "\n",
    "tokens = llm2.get_num_tokens(text)\n",
    "print(tokens)"
   ]
  },
  {
   "cell_type": "code",
   "execution_count": 7,
   "metadata": {},
   "outputs": [
    {
     "name": "stdout",
     "output_type": "stream",
     "text": [
      "1\n"
     ]
    }
   ],
   "source": [
    "text_splitter = RecursiveCharacterTextSplitter(separators=[\".\",\",\"],chunk_size=5000,chunk_overlap = 300)\n",
    "docs = text_splitter.create_documents([text])\n",
    "\n",
    "print(len(docs))"
   ]
  },
  {
   "cell_type": "code",
   "execution_count": 8,
   "metadata": {},
   "outputs": [
    {
     "name": "stdout",
     "output_type": "stream",
     "text": [
      "[Document(page_content='Prabhudas Lilladher has come out with its second quarter (July-September’ 24) earnings estimates for the Consumer Durables sector. The brokerage house expects Bajaj Electricals to report net profit at Rs. 58.5 crore down 8.5% year-on-year (up 35.9% quarter-on-quarter).Net Sales are expected to decrease by 0.4 percent Y-o-Y (up 9.3 percent Q-o-Q) to Rs. 1,215.7 crore, according to Prabhudas Lilladher.Earnings before interest, tax, depreciation and amortisation (EBITDA) are likely to fall by 5.4 percent Y-o-Y (up 28 percent Q-o-Q) to Rs. 88.7 crore.Disclaimer: The views and investment tips expressed by investment experts on moneycontrol.com are their own, and not that of the website or its management. Moneycontrol.com advises users to check with certified experts before taking any investment decisions.')]\n"
     ]
    }
   ],
   "source": [
    "print(docs)"
   ]
  },
  {
   "cell_type": "code",
   "execution_count": 12,
   "metadata": {},
   "outputs": [
    {
     "name": "stdout",
     "output_type": "stream",
     "text": [
      "\n",
      "\n",
      "\u001b[1m> Entering new MapReduceDocumentsChain chain...\u001b[0m\n",
      "\n",
      "\n",
      "\u001b[1m> Entering new LLMChain chain...\u001b[0m\n",
      "Prompt after formatting:\n",
      "\u001b[32;1m\u001b[1;3mWrite a concise summary of the following:\n",
      "\n",
      "\n",
      "\"Prabhudas Lilladher has come out with its second quarter (July-September’ 24) earnings estimates for the Consumer Durables sector. The brokerage house expects Bajaj Electricals to report net profit at Rs. 58.5 crore down 8.5% year-on-year (up 35.9% quarter-on-quarter).Net Sales are expected to decrease by 0.4 percent Y-o-Y (up 9.3 percent Q-o-Q) to Rs. 1,215.7 crore, according to Prabhudas Lilladher.Earnings before interest, tax, depreciation and amortisation (EBITDA) are likely to fall by 5.4 percent Y-o-Y (up 28 percent Q-o-Q) to Rs. 88.7 crore.Disclaimer: The views and investment tips expressed by investment experts on moneycontrol.com are their own, and not that of the website or its management. Moneycontrol.com advises users to check with certified experts before taking any investment decisions.\"\n",
      "\n",
      "\n",
      "CONCISE SUMMARY:\u001b[0m\n",
      "\n",
      "\u001b[1m> Finished chain.\u001b[0m\n",
      "\n",
      "\n",
      "\u001b[1m> Entering new LLMChain chain...\u001b[0m\n",
      "Prompt after formatting:\n",
      "\u001b[32;1m\u001b[1;3mWrite a concise summary of the following:\n",
      "\n",
      "\n",
      "\" Prabhudas Lilladher has released its second quarter earnings estimates for the Consumer Durables sector, expecting Bajaj Electricals to report a net profit of Rs. 58.5 crore, down 8.5% year-on-year but up 35.9% quarter-on-quarter. Net Sales are expected to decrease by 0.4% Y-o-Y and EBITDA by 5.4% Y-o-Y. Investment decisions should be made with the advice of certified experts.\"\n",
      "\n",
      "\n",
      "CONCISE SUMMARY:\u001b[0m\n",
      "\n",
      "\u001b[1m> Finished chain.\u001b[0m\n",
      "\n",
      "\u001b[1m> Finished chain.\u001b[0m\n",
      " Prabhudas Lilladher has released its second quarter earnings estimates for the Consumer Durables sector, forecasting a net profit of Rs. 58.5 crore for Bajaj Electricals, a decrease of 8.5% year-on-year but an increase of 35.9% quarter-on-quarter. Net Sales and EBITDA are expected to decrease by 0.4% and 5.4% respectively year-on-year. Investment decisions should be made with the advice of certified experts.\n"
     ]
    }
   ],
   "source": [
    "chain = load_summarize_chain(llm=llm2,chain_type='map_reduce',verbose=True)\n",
    "output = chain.run(docs)\n",
    "print(output)"
   ]
  },
  {
   "cell_type": "markdown",
   "metadata": {},
   "source": [
    "# Question and Answering using document as context"
   ]
  },
  {
   "cell_type": "code",
   "execution_count": 8,
   "metadata": {},
   "outputs": [],
   "source": [
    "from langchain.llms import OpenAI"
   ]
  },
  {
   "cell_type": "code",
   "execution_count": 9,
   "metadata": {},
   "outputs": [
    {
     "name": "stdout",
     "output_type": "stream",
     "text": [
      "Jaggu is 15 years old.\n"
     ]
    }
   ],
   "source": [
    "qa_llm = OpenAI(temperature=0,openai_api_key=key)\n",
    "\n",
    "\n",
    "context = \"\"\"bheem is 40 years old raju is 30 years and old chutki is 35 years old and jaggu is half the age of raju\"\"\"\n",
    "\n",
    "question = \"what is the age of jaggu?\"\n",
    "\n",
    "output = qa_llm(context + question)\n",
    "\n",
    "print(output.strip())"
   ]
  },
  {
   "cell_type": "markdown",
   "metadata": {},
   "source": [
    "# using word embeddings"
   ]
  },
  {
   "cell_type": "code",
   "execution_count": 17,
   "metadata": {},
   "outputs": [],
   "source": [
    "from langchain.llms import OpenAI\n",
    "\n",
    "# fro storing word vectors\n",
    "from langchain.vectorstores import FAISS\n",
    "\n",
    "# for getting the documents\n",
    "from langchain.chains import RetrievalQA\n",
    "\n",
    "# for loading the document\n",
    "from langchain.document_loaders import TextLoader\n",
    "\n",
    "# converting our text to vectors\n",
    "from langchain.embeddings.openai import OpenAIEmbeddings\n",
    "\n",
    "from langchain.text_splitter import RecursiveCharacterTextSplitter\n",
    "\n",
    "llm_doc = OpenAI(temperature=0,openai_api_key=key)"
   ]
  },
  {
   "cell_type": "code",
   "execution_count": 8,
   "metadata": {},
   "outputs": [
    {
     "name": "stdout",
     "output_type": "stream",
     "text": [
      "len 1\n",
      "you have 46057\n"
     ]
    }
   ],
   "source": [
    "loader = TextLoader('data.txt',encoding='unicode_escape')\n",
    "\n",
    "doc = loader.load()\n",
    "\n",
    "print(f'len {len(doc)}')\n",
    "print(f'you have {len(doc[0].page_content)}')"
   ]
  },
  {
   "cell_type": "code",
   "execution_count": 13,
   "metadata": {},
   "outputs": [],
   "source": [
    "textsplitter = RecursiveCharacterTextSplitter(chunk_size=3000,chunk_overlap=400)\n",
    "docs = textsplitter.split_documents(doc)"
   ]
  },
  {
   "cell_type": "code",
   "execution_count": 15,
   "metadata": {},
   "outputs": [
    {
     "name": "stdout",
     "output_type": "stream",
     "text": [
      "average :  2612.842105263158 and length of documents 19\n"
     ]
    }
   ],
   "source": [
    "num_of_total_characters = sum([len(x.page_content) for x in docs])\n",
    "\n",
    "print(f'average :  {num_of_total_characters/len(docs)} and length of documents {len(docs)}' )"
   ]
  },
  {
   "cell_type": "code",
   "execution_count": 18,
   "metadata": {},
   "outputs": [],
   "source": [
    "embeddings = OpenAIEmbeddings(openai_api_key=key)\n",
    "\n",
    "docsearch = FAISS.from_documents(docs , embeddings)"
   ]
  },
  {
   "cell_type": "markdown",
   "metadata": {},
   "source": [
    "create retrevial engine"
   ]
  },
  {
   "cell_type": "code",
   "execution_count": 20,
   "metadata": {},
   "outputs": [],
   "source": [
    "qa = RetrievalQA.from_chain_type(llm=llm_doc,chain_type=\"stuff\",retriever=docsearch.as_retriever())"
   ]
  },
  {
   "cell_type": "code",
   "execution_count": 26,
   "metadata": {},
   "outputs": [
    {
     "data": {
      "text/plain": [
       "' BAF stands for Balanced Advantage Fund. It is a hybrid mutual fund that invests in a mix of equity and debt instruments, which it manages dynamically, i.e., as per changing market conditions, it allocates the investments between equity and debt.'"
      ]
     },
     "execution_count": 26,
     "metadata": {},
     "output_type": "execute_result"
    }
   ],
   "source": [
    "query=\"what is baf?\"\n",
    "qa.run(query)"
   ]
  },
  {
   "cell_type": "markdown",
   "metadata": {},
   "source": [
    "# Summarizing the document"
   ]
  },
  {
   "cell_type": "code",
   "execution_count": 35,
   "metadata": {},
   "outputs": [],
   "source": [
    "\n",
    "from langchain.llms import OpenAI\n",
    "from langchain.chains.summarize import load_summarize_chain\n",
    "from langchain.text_splitter import RecursiveCharacterTextSplitter\n",
    "\n",
    "\n",
    "llm_summarize = OpenAI(temperature=0,openai_api_key=key)"
   ]
  },
  {
   "cell_type": "code",
   "execution_count": 33,
   "metadata": {},
   "outputs": [],
   "source": [
    "text=open('data.txt','r',encoding='unicode_escape')\n",
    "text_data = text.read()"
   ]
  },
  {
   "cell_type": "code",
   "execution_count": 37,
   "metadata": {},
   "outputs": [
    {
     "name": "stdout",
     "output_type": "stream",
     "text": [
      "10569\n"
     ]
    }
   ],
   "source": [
    "num_tokens = llm_summarize.get_num_tokens(text_data)\n",
    "print(num_tokens)"
   ]
  },
  {
   "cell_type": "code",
   "execution_count": 38,
   "metadata": {},
   "outputs": [],
   "source": [
    "text_splitter = RecursiveCharacterTextSplitter(separators=[\"\\n\\n\",\"\\n\"],chunk_size=5000,chunk_overlap = 300)\n",
    "docs_summarize = text_splitter.create_documents([text_data])\n"
   ]
  },
  {
   "cell_type": "code",
   "execution_count": 39,
   "metadata": {},
   "outputs": [
    {
     "name": "stdout",
     "output_type": "stream",
     "text": [
      "10\n"
     ]
    }
   ],
   "source": [
    "print(len(docs_summarize))"
   ]
  },
  {
   "cell_type": "code",
   "execution_count": 41,
   "metadata": {},
   "outputs": [
    {
     "name": "stdout",
     "output_type": "stream",
     "text": [
      " The Indian mutual fund industry is undergoing a transformation, with Jio Financial Services entering the market and Isha Ambani leading a mission to democratize investing. Systematic Investment Plans (SIPs) are a cost-effective way to invest in mutual funds, and Blackrock's Aladdin platform is being used to leverage tech and data. Competition is rising in a tight regulatory environment, and mutual fund houses have filed drafts for 11 new equity mutual fund schemes. Fund managers experienced fatigue due to the chase for yield, and Loanmoney.in has recommended Humshad Charna for investments in mutual funds. The government is being asked to consider removing GST on commissions earned by MFDs.\n"
     ]
    }
   ],
   "source": [
    "chain = load_summarize_chain(llm=llm_summarize,chain_type='map_reduce')\n",
    "chain_output = chain.run(docs_summarize)\n",
    "print(chain_output)"
   ]
  },
  {
   "cell_type": "markdown",
   "metadata": {},
   "source": [
    "# WolfRam for scientific data"
   ]
  },
  {
   "cell_type": "code",
   "execution_count": 12,
   "metadata": {},
   "outputs": [],
   "source": [
    "from langchain.agents import load_tools\n",
    "from langchain.agents import initialize_agent\n",
    "from langchain.llms import OpenAI\n",
    "import os"
   ]
  },
  {
   "cell_type": "code",
   "execution_count": 13,
   "metadata": {},
   "outputs": [],
   "source": [
    "os.environ['WOLFRAM_ALPHA_APPID'] = '{wolfram_alpha_app_id}'"
   ]
  },
  {
   "cell_type": "code",
   "execution_count": 14,
   "metadata": {},
   "outputs": [],
   "source": [
    "wolfram_llm = OpenAI(temperature=0,openai_api_key=key)"
   ]
  },
  {
   "cell_type": "code",
   "execution_count": 16,
   "metadata": {},
   "outputs": [],
   "source": [
    "tool_name = [\"wolfram-alpha\",\"serpapi\"]\n",
    "tools = load_tools(tool_names=tool_name)"
   ]
  },
  {
   "cell_type": "code",
   "execution_count": 17,
   "metadata": {},
   "outputs": [],
   "source": [
    "wolfram_agent = initialize_agent(tools , llm=wolfram_llm , agent=\"zero-shot-react-description\",verbose=True)"
   ]
  },
  {
   "cell_type": "code",
   "execution_count": 18,
   "metadata": {},
   "outputs": [
    {
     "name": "stdout",
     "output_type": "stream",
     "text": [
      "\n",
      "\n",
      "\u001b[1m> Entering new AgentExecutor chain...\u001b[0m\n",
      "\u001b[32;1m\u001b[1;3m I should look up the definition of atmosphere\n",
      "Action: wolfram_alpha\n",
      "Action Input: definition of atmosphere\u001b[0m\n",
      "Observation: \u001b[36;1m\u001b[1;3mAssumption: atmosphere (English word) | definitions \n",
      "Answer: 1 | noun | a particular environment or surrounding influence\n",
      "2 | noun | a unit of pressure: the pressure that will support a column of mercury 760 mm high at sea level and 0 degrees centigrade\n",
      "3 | noun | the mass of air surrounding the Earth\n",
      "4 | noun | the weather or climate at some place\n",
      "5 | noun | the envelope of gases surrounding any celestial body\n",
      "6 | noun | a distinctive but intangible quality surrounding a person or thing\n",
      "(6 meanings)\u001b[0m\n",
      "Thought:\u001b[32;1m\u001b[1;3m I now know the final answer\n",
      "Final Answer: Atmosphere is the mass of air surrounding the Earth and the envelope of gases surrounding any celestial body, as well as a distinctive but intangible quality surrounding a person or thing.\u001b[0m\n",
      "\n",
      "\u001b[1m> Finished chain.\u001b[0m\n"
     ]
    },
    {
     "data": {
      "text/plain": [
       "'Atmosphere is the mass of air surrounding the Earth and the envelope of gases surrounding any celestial body, as well as a distinctive but intangible quality surrounding a person or thing.'"
      ]
     },
     "execution_count": 18,
     "metadata": {},
     "output_type": "execute_result"
    }
   ],
   "source": [
    "wolfram_agent.run(\"what is atmosphere?\")"
   ]
  },
  {
   "cell_type": "code",
   "execution_count": 20,
   "metadata": {},
   "outputs": [
    {
     "name": "stdout",
     "output_type": "stream",
     "text": [
      "\n",
      "\n",
      "\u001b[1m> Entering new AgentExecutor chain...\u001b[0m\n",
      "\u001b[32;1m\u001b[1;3m I should look for a scientific explanation\n",
      "Action: wolfram_alpha\n",
      "Action Input: quantum mechanics\u001b[0m\n",
      "Observation: \u001b[36;1m\u001b[1;3mWolfram Alpha wasn't able to answer it\u001b[0m\n",
      "Thought:\u001b[32;1m\u001b[1;3m I should look for a more general explanation\n",
      "Action: Search\n",
      "Action Input: what is quantum mechanics\u001b[0m\n",
      "Observation: \u001b[33;1m\u001b[1;3m{'type': 'dictionary_results', 'syllables': 'quan·tum me·chan·ics', 'word_type': 'noun'}\u001b[0m\n",
      "Thought:"
     ]
    },
    {
     "name": "stderr",
     "output_type": "stream",
     "text": [
      "Retrying langchain.llms.openai.completion_with_retry.<locals>._completion_with_retry in 4.0 seconds as it raised RateLimitError: Rate limit reached for text-davinci-003 in organization org-G9jiKaDh64PmMTanO1WkaGA2 on requests per min. Limit: 3 / min. Please try again in 20s. Contact us through our help center at help.openai.com if you continue to have issues. Please add a payment method to your account to increase your rate limit. Visit https://platform.openai.com/account/billing to add a payment method..\n",
      "Retrying langchain.llms.openai.completion_with_retry.<locals>._completion_with_retry in 4.0 seconds as it raised RateLimitError: Rate limit reached for text-davinci-003 in organization org-G9jiKaDh64PmMTanO1WkaGA2 on requests per min. Limit: 3 / min. Please try again in 20s. Contact us through our help center at help.openai.com if you continue to have issues. Please add a payment method to your account to increase your rate limit. Visit https://platform.openai.com/account/billing to add a payment method..\n"
     ]
    },
    {
     "name": "stdout",
     "output_type": "stream",
     "text": [
      "\u001b[32;1m\u001b[1;3m I now know the final answer\n",
      "Final Answer: Quantum mechanics is a branch of physics that deals with the behavior of particles on the atomic and subatomic scale.\u001b[0m\n",
      "\n",
      "\u001b[1m> Finished chain.\u001b[0m\n"
     ]
    },
    {
     "data": {
      "text/plain": [
       "'Quantum mechanics is a branch of physics that deals with the behavior of particles on the atomic and subatomic scale.'"
      ]
     },
     "execution_count": 20,
     "metadata": {},
     "output_type": "execute_result"
    }
   ],
   "source": [
    "wolfram_agent.run(\"what is quantum mechanics\")"
   ]
  },
  {
   "cell_type": "code",
   "execution_count": 26,
   "metadata": {},
   "outputs": [
    {
     "name": "stdout",
     "output_type": "stream",
     "text": [
      "\n",
      "\n",
      "\u001b[1m> Entering new AgentExecutor chain...\u001b[0m\n",
      "\u001b[32;1m\u001b[1;3m I should look for a definition of computer science\n",
      "Action: wolfram_alpha\n",
      "Action Input: definition of computer science\u001b[0m\n",
      "Observation: \u001b[36;1m\u001b[1;3mAssumption: computer science (English phrase) | definition \n",
      "Answer: noun | the branch of engineering science that studies (with the aid of computers) computable processes and structures\u001b[0m\n",
      "Thought:\u001b[32;1m\u001b[1;3m I now know the final answer\n",
      "Final Answer: Computer science is the branch of engineering science that studies (with the aid of computers) computable processes and structures.\u001b[0m\n",
      "\n",
      "\u001b[1m> Finished chain.\u001b[0m\n"
     ]
    },
    {
     "data": {
      "text/plain": [
       "'Computer science is the branch of engineering science that studies (with the aid of computers) computable processes and structures.'"
      ]
     },
     "execution_count": 26,
     "metadata": {},
     "output_type": "execute_result"
    }
   ],
   "source": [
    "wolfram_agent.run(\"what is computer science?\")"
   ]
  },
  {
   "cell_type": "code",
   "execution_count": null,
   "metadata": {},
   "outputs": [],
   "source": []
  }
 ],
 "metadata": {
  "kernelspec": {
   "display_name": "Python 3",
   "language": "python",
   "name": "python3"
  },
  "language_info": {
   "codemirror_mode": {
    "name": "ipython",
    "version": 3
   },
   "file_extension": ".py",
   "mimetype": "text/x-python",
   "name": "python",
   "nbconvert_exporter": "python",
   "pygments_lexer": "ipython3",
   "version": "3.11.5"
  }
 },
 "nbformat": 4,
 "nbformat_minor": 2
}
